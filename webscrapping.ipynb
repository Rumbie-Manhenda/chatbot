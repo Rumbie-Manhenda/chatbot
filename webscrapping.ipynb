{
 "cells": [
  {
   "cell_type": "code",
   "execution_count": 5,
   "id": "b3320c65",
   "metadata": {},
   "outputs": [],
   "source": [
    "import requests \n",
    "from bs4 import BeautifulSoup"
   ]
  },
  {
   "cell_type": "code",
   "execution_count": 33,
   "id": "4c1e446b",
   "metadata": {},
   "outputs": [
    {
     "name": "stdout",
     "output_type": "stream",
     "text": [
      "Planet Earth II(2016)\n"
     ]
    }
   ],
   "source": [
    "try:\n",
    "    req = requests.get(\"https://www.imdb.com/chart/toptv/\")\n",
    "    req.raise_for_status()\n",
    "    soup = BeautifulSoup(req.content,\"html.parser\")\n",
    "    movies = soup.find('tbody', class_ = 'lister-list').find_all('tr')\n",
    "    for movie in movies:\n",
    "        name = movie.find('td',class_ = 'titleColumn').a.text\n",
    "        rating = movie.find('td', class_= 'ratingColumn').text\n",
    "        ranking = movie.find('td', class_= 'titleColumn').get_text(strip = True).split('.')[0]\n",
    "        year = movie.find('td', class_= 'titleColumn').get_text(strip = True).split('.')[1]\n",
    "        print(year)\n",
    "        break\n",
    "except Exception as e:\n",
    "    print(e)\n",
    "\n",
    "\n"
   ]
  },
  {
   "cell_type": "code",
   "execution_count": null,
   "id": "6f936167",
   "metadata": {},
   "outputs": [],
   "source": []
  },
  {
   "cell_type": "code",
   "execution_count": null,
   "id": "b8308bb3",
   "metadata": {},
   "outputs": [],
   "source": [
    "\n"
   ]
  }
 ],
 "metadata": {
  "kernelspec": {
   "display_name": "Python 3 (ipykernel)",
   "language": "python",
   "name": "python3"
  },
  "language_info": {
   "codemirror_mode": {
    "name": "ipython",
    "version": 3
   },
   "file_extension": ".py",
   "mimetype": "text/x-python",
   "name": "python",
   "nbconvert_exporter": "python",
   "pygments_lexer": "ipython3",
   "version": "3.9.13"
  }
 },
 "nbformat": 4,
 "nbformat_minor": 5
}
